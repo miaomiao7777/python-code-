{
 "cells": [
  {
   "cell_type": "markdown",
   "metadata": {},
   "source": [
    "This is homework assignment #1. Please use this file to write code and submit separate file with answers provided."
   ]
  },
  {
   "cell_type": "markdown",
   "metadata": {},
   "source": [
    "1 Set $X = \\sqrt{17}$ rounded to the nearest digit. Print the message using the variable \"Approximate square root of 17 is X\". Where X is the variable."
   ]
  },
  {
   "cell_type": "code",
   "execution_count": 1,
   "metadata": {},
   "outputs": [
    {
     "name": "stdout",
     "output_type": "stream",
     "text": [
      "Approximate square root of 17 is 4\n"
     ]
    }
   ],
   "source": [
    "import math\n",
    "X = round(math.sqrt(17))\n",
    "print(\"Approximate square root of 17 is %d\" %X)"
   ]
  },
  {
   "cell_type": "markdown",
   "metadata": {},
   "source": [
    "2 Covert all words to lowcase and drop all numbers and punctiation from the string.\n",
    "S = \"(1) An official wants to multiply subordinates, not rivals and (2) Officials make work for each other. [Parkinson] notes in particular that the total of those employed inside a bureaucracy rose by 5-7% per year irrespective of any variation in the amount of work (if any) to be done.”"
   ]
  },
  {
   "cell_type": "code",
   "execution_count": 2,
   "metadata": {},
   "outputs": [
    {
     "name": "stdout",
     "output_type": "stream",
     "text": [
      "anofficialwantstomultiplysubordinatesnotrivalsandofficialsmakeworkforeachotherparkinsonnotesinparticularthatthetotalofthoseemployedinsideabureaucracyrosebyperyearirrespectiveofanyvariationintheamountofworkifanytobedone\n"
     ]
    }
   ],
   "source": [
    "S = \"(1) An official wants to multiply subordinates, not rivals and (2) Officials make work for each other. [Parkinson] notes in particular that the total of those employed inside a bureaucracy rose by 5-7% per year irrespective of any variation in the amount of work (if any) to be done.\" \n",
    "S1 = S.lower()\n",
    "S2 = filter(str.isalpha,S1)\n",
    "print(''.join(list(S2)))"
   ]
  },
  {
   "cell_type": "markdown",
   "metadata": {
    "collapsed": true
   },
   "source": [
    "3 Create a list of vegetables : carrot, potato, tomato, cabbage. Extract the first and last vegetable into another list. "
   ]
  },
  {
   "cell_type": "code",
   "execution_count": 3,
   "metadata": {},
   "outputs": [
    {
     "name": "stdout",
     "output_type": "stream",
     "text": [
      "['potato', 'tomato'] ['carrot', 'cabbage']\n"
     ]
    }
   ],
   "source": [
    "x = ['carrot', 'potato', 'tomato', 'cabbage']\n",
    "y = [x[0],x[3]]\n",
    "#y = [x[0], x[3]]\n",
    "x.pop(0)\n",
    "#del(x[0])\n",
    "x.pop()\n",
    "#del(x[2])\n",
    "print(x,y)"
   ]
  },
  {
   "cell_type": "markdown",
   "metadata": {},
   "source": [
    "4  Create a vector from 0 to 9, extract elements on positions 2-4, and  on positions 7-9 into a another vector     "
   ]
  },
  {
   "cell_type": "code",
   "execution_count": 4,
   "metadata": {},
   "outputs": [
    {
     "name": "stdout",
     "output_type": "stream",
     "text": [
      "[0 1 2 3 4 5 6 7 8 9]\n",
      "[1, 2, 3] [6, 7, 8]\n",
      "<class 'numpy.ndarray'>\n",
      "[1 2 3 6 7 8]\n"
     ]
    }
   ],
   "source": [
    "import numpy as np\n",
    "x = np.array(range(0,10))\n",
    "print(x)\n",
    "y1 = list(x[1:4])\n",
    "y2 = list(x[6:9])\n",
    "print(y1,y2)\n",
    "y = np.array(y1+y2)\n",
    "# Y = np.concatenate([y1,y2])\n",
    "print(type(y))\n",
    "print(y)"
   ]
  },
  {
   "cell_type": "markdown",
   "metadata": {},
   "source": [
    "5 Create a vector of squared number from 3 to 13 using a loop, extract the smallest, the largest number and the lenght of the vector."
   ]
  },
  {
   "cell_type": "code",
   "execution_count": 5,
   "metadata": {},
   "outputs": [
    {
     "name": "stdout",
     "output_type": "stream",
     "text": [
      "[9, 16, 25, 36, 49, 64, 81, 100, 121, 144, 169]\n",
      "9 169 11\n"
     ]
    }
   ],
   "source": [
    "import numpy as np\n",
    "x = list(range(3,14))\n",
    "y = []\n",
    "for i in x:\n",
    "    y.append(np.square(i))\n",
    "print(y)\n",
    "z = np.array(y)\n",
    "print(min(z),max(z),len(z))    "
   ]
  },
  {
   "cell_type": "markdown",
   "metadata": {},
   "source": [
    "6 Create a vector from  2 to 13, and a vector from 56 to 59. Then insert the second list in the position 5 of the first."
   ]
  },
  {
   "cell_type": "code",
   "execution_count": 6,
   "metadata": {},
   "outputs": [
    {
     "name": "stdout",
     "output_type": "stream",
     "text": [
      "[2, 3, 4, 5, 6, 7, 8, 9, 10, 11, 12, 13] [56, 57, 58, 59]\n",
      "[2, 3, 4, 5, 6, [56, 57, 58, 59], 7, 8, 9, 10, 11, 12, 13]\n"
     ]
    }
   ],
   "source": [
    "x = list(range(2,14))\n",
    "y = list(range(56,60))\n",
    "print(x,y)\n",
    "x.insert(5,y)\n",
    "print(x)"
   ]
  },
  {
   "cell_type": "markdown",
   "metadata": {},
   "source": [
    "7 Loop over the number from 17 to 36. Set up a condition under which you print the current looping number and print if it is even or odd."
   ]
  },
  {
   "cell_type": "code",
   "execution_count": 7,
   "metadata": {},
   "outputs": [
    {
     "name": "stdout",
     "output_type": "stream",
     "text": [
      "current looping number: 1\n",
      "17 is odd\n",
      "current looping number: 2\n",
      "18 is even\n",
      "current looping number: 3\n",
      "19 is odd\n",
      "current looping number: 4\n",
      "20 is even\n",
      "current looping number: 5\n",
      "21 is odd\n",
      "current looping number: 6\n",
      "22 is even\n",
      "current looping number: 7\n",
      "23 is odd\n",
      "current looping number: 8\n",
      "24 is even\n",
      "current looping number: 9\n",
      "25 is odd\n",
      "current looping number: 10\n",
      "26 is even\n",
      "current looping number: 11\n",
      "27 is odd\n",
      "current looping number: 12\n",
      "28 is even\n",
      "current looping number: 13\n",
      "29 is odd\n",
      "current looping number: 14\n",
      "30 is even\n",
      "current looping number: 15\n",
      "31 is odd\n",
      "current looping number: 16\n",
      "32 is even\n",
      "current looping number: 17\n",
      "33 is odd\n",
      "current looping number: 18\n",
      "34 is even\n",
      "current looping number: 19\n",
      "35 is odd\n",
      "current looping number: 20\n",
      "36 is even\n"
     ]
    }
   ],
   "source": [
    "x = 0\n",
    "for i in range(17,37):\n",
    "    x += 1\n",
    "    print(\"current looping number:\", x)\n",
    "    if i%2==0:\n",
    "        print(\"{0} is even\".format(i))\n",
    "    else:\n",
    "        print(\"{0} is odd\".format(i))"
   ]
  },
  {
   "cell_type": "markdown",
   "metadata": {},
   "source": [
    "8 Create a function that transforms an argument. First is takes a square root of the argument, then it adds 5, finally divides it by 7. Run the example with argument x = 5"
   ]
  },
  {
   "cell_type": "code",
   "execution_count": 8,
   "metadata": {},
   "outputs": [
    {
     "data": {
      "text/plain": [
       "1.0337239967856842"
      ]
     },
     "execution_count": 8,
     "metadata": {},
     "output_type": "execute_result"
    }
   ],
   "source": [
    "y = lambda x: (math.sqrt(x) + 5)/7\n",
    "y(5)"
   ]
  },
  {
   "cell_type": "markdown",
   "metadata": {
    "collapsed": true
   },
   "source": [
    "9 Create a 3x3 matrix with elements from 1 to 9 and add a row to the bottom of the matrix with number 11 13 15. "
   ]
  },
  {
   "cell_type": "code",
   "execution_count": 9,
   "metadata": {},
   "outputs": [
    {
     "name": "stdout",
     "output_type": "stream",
     "text": [
      "[[1 2 3]\n",
      " [4 5 6]\n",
      " [7 8 9]] [11 13 15]\n",
      "[[ 1  2  3]\n",
      " [ 4  5  6]\n",
      " [ 7  8  9]\n",
      " [11 13 15]]\n"
     ]
    }
   ],
   "source": [
    "x = np.array(range(1,10))\n",
    "x = x.reshape(3,3)\n",
    "y = np.array([11,13,15])\n",
    "print(x,y)\n",
    "z = np.insert(x,[3],y,axis=0)\n",
    "print(z)"
   ]
  }
 ],
 "metadata": {
  "kernelspec": {
   "display_name": "Python 3",
   "language": "python",
   "name": "python3"
  },
  "language_info": {
   "codemirror_mode": {
    "name": "ipython",
    "version": 3
   },
   "file_extension": ".py",
   "mimetype": "text/x-python",
   "name": "python",
   "nbconvert_exporter": "python",
   "pygments_lexer": "ipython3",
   "version": "3.6.5"
  }
 },
 "nbformat": 4,
 "nbformat_minor": 2
}
