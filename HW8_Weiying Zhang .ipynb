{
 "cells": [
  {
   "cell_type": "markdown",
   "metadata": {},
   "source": [
    "# Problem 1\n",
    "Load mnist digits data set. Estimate base line prediction accuracy with SDGClassifier (20 iteractions), RandomForest(max_depth=3) and RandomForest(max_depth=15). Train model on training data and predict accuracy using testing data. Record the amount of time needed to estimate each. "
   ]
  },
  {
   "cell_type": "code",
   "execution_count": 2,
   "metadata": {},
   "outputs": [],
   "source": [
    "import numpy as np\n",
    "import os\n",
    "# to make this notebook's output stable across runs\n",
    "np.random.seed(42)\n",
    "from six.moves import urllib\n",
    "from sklearn.datasets import fetch_mldata\n",
    "mnist = fetch_mldata('MNIST original')\n",
    "from sklearn.model_selection import train_test_split\n",
    "X = mnist[\"data\"]\n",
    "y = mnist[\"target\"]\n",
    "X_train, X_test, y_train, y_test = train_test_split(X, y)"
   ]
  },
  {
   "cell_type": "code",
   "execution_count": 7,
   "metadata": {},
   "outputs": [
    {
     "name": "stdout",
     "output_type": "stream",
     "text": [
      "sdg_clf takes 12.00s\n"
     ]
    },
    {
     "data": {
      "text/plain": [
       "0.8492571428571428"
      ]
     },
     "execution_count": 7,
     "metadata": {},
     "output_type": "execute_result"
    }
   ],
   "source": [
    "from sklearn.linear_model import SGDClassifier\n",
    "from sklearn.metrics import accuracy_score\n",
    "import time\n",
    "\n",
    "t0 = time.time()\n",
    "\n",
    "sgd_clf = SGDClassifier(max_iter=20,random_state=42)\n",
    "sgd_clf.fit(X_train,y_train)\n",
    "y_pred_0= sgd_clf.predict(X_test)\n",
    "\n",
    "t1 = time.time()\n",
    "print(\"sdg_clf takes {:.2f}s\".format(t1 - t0))\n",
    "\n",
    "accuracy_score(y_test, y_pred_0)"
   ]
  },
  {
   "cell_type": "code",
   "execution_count": 8,
   "metadata": {},
   "outputs": [
    {
     "name": "stdout",
     "output_type": "stream",
     "text": [
      "rnd_clf takes 0.98s\n"
     ]
    },
    {
     "data": {
      "text/plain": [
       "0.6704"
      ]
     },
     "execution_count": 8,
     "metadata": {},
     "output_type": "execute_result"
    }
   ],
   "source": [
    "from sklearn.ensemble import RandomForestClassifier\n",
    "\n",
    "t0 = time.time()\n",
    "\n",
    "rnd_clf = RandomForestClassifier(max_depth=3, random_state=42)\n",
    "rnd_clf.fit(X_train,y_train)\n",
    "y_pred_1 = rnd_clf.predict(X_test)\n",
    "\n",
    "t1 = time.time()\n",
    "print(\"rnd_clf takes {:.2f}s\".format(t1 - t0))\n",
    "\n",
    "accuracy_score(y_test, y_pred_1)"
   ]
  },
  {
   "cell_type": "code",
   "execution_count": 9,
   "metadata": {},
   "outputs": [
    {
     "name": "stdout",
     "output_type": "stream",
     "text": [
      "rnd_clf_1 takes 2.81s\n"
     ]
    },
    {
     "data": {
      "text/plain": [
       "0.9437142857142857"
      ]
     },
     "execution_count": 9,
     "metadata": {},
     "output_type": "execute_result"
    }
   ],
   "source": [
    "t0 = time.time()\n",
    "\n",
    "rnd_clf_1 = RandomForestClassifier(max_depth=15, random_state=42)\n",
    "rnd_clf_1.fit(X_train,y_train)\n",
    "y_pred_2 = rnd_clf_1.predict(X_test)\n",
    "\n",
    "t1 = time.time()\n",
    "print(\"rnd_clf_1 takes {:.2f}s\".format(t1 - t0))\n",
    "\n",
    "accuracy_score(y_test, y_pred_2)"
   ]
  },
  {
   "cell_type": "markdown",
   "metadata": {},
   "source": [
    "# Problem 2\n",
    "Apply PCA to extract principle components responsible for 90% of variance. Apply the algorithms above to the components. Report new accuracy score. Make sure to apply PCA to the data before the split into training and testing. Record time of the PCA procedure and record separately time and accuracy of each estimation and report changes relative to Problem 1. "
   ]
  },
  {
   "cell_type": "code",
   "execution_count": 10,
   "metadata": {},
   "outputs": [],
   "source": [
    "from sklearn.decomposition import PCA\n",
    " \n",
    "pca = PCA(n_components=0.9)\n",
    "X_reduced = pca.fit_transform(X)\n",
    "\n",
    "X_train, X_test, y_train, y_test = train_test_split(X_reduced, y)"
   ]
  },
  {
   "cell_type": "code",
   "execution_count": 11,
   "metadata": {},
   "outputs": [
    {
     "name": "stdout",
     "output_type": "stream",
     "text": [
      "sdg_clf takes 2.80s\n"
     ]
    },
    {
     "data": {
      "text/plain": [
       "0.7621714285714286"
      ]
     },
     "execution_count": 11,
     "metadata": {},
     "output_type": "execute_result"
    }
   ],
   "source": [
    "t0 = time.time()\n",
    "\n",
    "sgd_clf = SGDClassifier(max_iter=20,random_state=42)\n",
    "sgd_clf.fit(X_train,y_train)\n",
    "y_pred_0= sgd_clf.predict(X_test)\n",
    "\n",
    "t1 = time.time()\n",
    "print(\"sdg_clf takes {:.2f}s\".format(t1 - t0))\n",
    "\n",
    "accuracy_score(y_test, y_pred_0)"
   ]
  },
  {
   "cell_type": "code",
   "execution_count": 12,
   "metadata": {},
   "outputs": [
    {
     "name": "stdout",
     "output_type": "stream",
     "text": [
      "rnd_clf takes 8.79s\n"
     ]
    },
    {
     "data": {
      "text/plain": [
       "0.6161142857142857"
      ]
     },
     "execution_count": 12,
     "metadata": {},
     "output_type": "execute_result"
    }
   ],
   "source": [
    "rnd_clf = RandomForestClassifier(max_depth=3, random_state=42)\n",
    "rnd_clf.fit(X_train,y_train)\n",
    "y_pred_1 = rnd_clf.predict(X_test)\n",
    "\n",
    "t1 = time.time()\n",
    "print(\"rnd_clf takes {:.2f}s\".format(t1 - t0))\n",
    "\n",
    "accuracy_score(y_test, y_pred_1)"
   ]
  },
  {
   "cell_type": "code",
   "execution_count": 13,
   "metadata": {},
   "outputs": [
    {
     "name": "stdout",
     "output_type": "stream",
     "text": [
      "rnd_clf_1 takes 16.06s\n"
     ]
    },
    {
     "data": {
      "text/plain": [
       "0.9058857142857143"
      ]
     },
     "execution_count": 13,
     "metadata": {},
     "output_type": "execute_result"
    }
   ],
   "source": [
    "rnd_clf_1 = RandomForestClassifier(max_depth=15, random_state=42)\n",
    "rnd_clf_1.fit(X_train,y_train)\n",
    "y_pred_2 = rnd_clf_1.predict(X_test)\n",
    "\n",
    "t1 = time.time()\n",
    "print(\"rnd_clf_1 takes {:.2f}s\".format(t1 - t0))\n",
    "\n",
    "accuracy_score(y_test, y_pred_2)"
   ]
  },
  {
   "cell_type": "markdown",
   "metadata": {},
   "source": [
    "# Problem 3\n",
    "\n",
    "Load the same data. Extract 1000 observations, use the code below. Try five different PCA alogrithms that would extract 100 principle components. Use the following PCA algorithms: PCA,  Kernel PCA(Linear), Kernel PCA(Sigmoid(gamma=0.001), LLE (10 neighbors), Isomap. Then estimate logistic regression on the training data and test the accuracy using testing data. \n",
    "* What are the accuracy score on testing data you find with each PCA algorithm? \n",
    "* Which PCA algorithm has the highest prediction accuracy?\n",
    "* What is the accuracy of the logistic regression applied to the 1000 obs without applying PCA? "
   ]
  },
  {
   "cell_type": "code",
   "execution_count": 14,
   "metadata": {},
   "outputs": [],
   "source": [
    "np.random.seed(42)\n",
    "smp = np.random.randint(50000, size=1000)\n",
    "X_s = mnist[\"data\"][smp,:]\n",
    "y_s = mnist[\"target\"][smp]"
   ]
  },
  {
   "cell_type": "code",
   "execution_count": 15,
   "metadata": {},
   "outputs": [
    {
     "data": {
      "text/plain": [
       "0.816"
      ]
     },
     "execution_count": 15,
     "metadata": {},
     "output_type": "execute_result"
    }
   ],
   "source": [
    "from sklearn.decomposition import PCA\n",
    "pca = PCA(n_components=100)\n",
    "\n",
    "X_reduced = pca.fit_transform(X_s)\n",
    "X_train_s, X_test_s, y_train_s, y_test_s = train_test_split(X_reduced, y_s)\n",
    "\n",
    "from sklearn.linear_model import LogisticRegression\n",
    "\n",
    "log_reg = LogisticRegression(random_state=42)\n",
    "log_reg.fit(X_train_s, y_train_s)\n",
    "log_reg.score(X_test_s,y_test_s)"
   ]
  },
  {
   "cell_type": "code",
   "execution_count": 16,
   "metadata": {},
   "outputs": [
    {
     "data": {
      "text/plain": [
       "0.816"
      ]
     },
     "execution_count": 16,
     "metadata": {},
     "output_type": "execute_result"
    }
   ],
   "source": [
    "from sklearn.decomposition import KernelPCA\n",
    "\n",
    "lin_pca = KernelPCA(n_components = 100, kernel=\"linear\", fit_inverse_transform=True)\n",
    "X_reduced = lin_pca.fit_transform(X_s)\n",
    "X_train_s, X_test_s, y_train_s, y_test_s = train_test_split(X_reduced, y_s)\n",
    "\n",
    "log_reg.fit(X_train_s, y_train_s)\n",
    "log_reg.score(X_test_s,y_test_s)"
   ]
  },
  {
   "cell_type": "code",
   "execution_count": 17,
   "metadata": {},
   "outputs": [
    {
     "data": {
      "text/plain": [
       "0.148"
      ]
     },
     "execution_count": 17,
     "metadata": {},
     "output_type": "execute_result"
    }
   ],
   "source": [
    "sig_pca = KernelPCA(n_components = 100, kernel=\"sigmoid\", gamma=0.001, coef0=1, fit_inverse_transform=True)\n",
    "X_reduced = sig_pca.fit_transform(X_s)\n",
    "X_train_s, X_test_s, y_train_s, y_test_s = train_test_split(X_reduced, y_s)\n",
    "\n",
    "log_reg.fit(X_train_s, y_train_s)\n",
    "log_reg.score(X_test_s,y_test_s)"
   ]
  },
  {
   "cell_type": "code",
   "execution_count": 18,
   "metadata": {},
   "outputs": [
    {
     "data": {
      "text/plain": [
       "0.828"
      ]
     },
     "execution_count": 18,
     "metadata": {},
     "output_type": "execute_result"
    }
   ],
   "source": [
    "from sklearn.manifold import LocallyLinearEmbedding\n",
    "\n",
    "lle = LocallyLinearEmbedding(n_components=100, n_neighbors=10, random_state=42)\n",
    "X_reduced = lle.fit_transform(X_s)\n",
    "X_train_s, X_test_s, y_train_s, y_test_s = train_test_split(X_reduced, y_s)\n",
    "\n",
    "log_reg.fit(X_train_s, y_train_s)\n",
    "log_reg.score(X_test_s,y_test_s)"
   ]
  },
  {
   "cell_type": "code",
   "execution_count": 19,
   "metadata": {},
   "outputs": [
    {
     "data": {
      "text/plain": [
       "0.888"
      ]
     },
     "execution_count": 19,
     "metadata": {},
     "output_type": "execute_result"
    }
   ],
   "source": [
    "from sklearn.manifold import Isomap\n",
    "\n",
    "isomap = Isomap(n_components=100)\n",
    "X_reduced = isomap.fit_transform(X_s)\n",
    "X_train_s, X_test_s, y_train_s, y_test_s = train_test_split(X_reduced, y_s)\n",
    "\n",
    "log_reg.fit(X_train_s, y_train_s)\n",
    "log_reg.score(X_test_s,y_test_s)"
   ]
  },
  {
   "cell_type": "code",
   "execution_count": 28,
   "metadata": {},
   "outputs": [],
   "source": [
    "# Randomly sample 1000 obs, otherwise it will get really slow.\n",
    "np.random.seed(42)\n",
    "smp = np.random.randint(50000, size=1000)\n",
    "X_s = mnist[\"data\"][smp,:]\n",
    "y_s = mnist[\"target\"][smp]\n",
    "X_train_s, X_test_s, y_train_s, y_test_s = train_test_split(X_s, y_s)"
   ]
  },
  {
   "cell_type": "code",
   "execution_count": 29,
   "metadata": {},
   "outputs": [
    {
     "data": {
      "text/plain": [
       "0.208"
      ]
     },
     "execution_count": 29,
     "metadata": {},
     "output_type": "execute_result"
    }
   ],
   "source": [
    "pca = PCA(n_components=100)\n",
    "X_reduced_train = pca.fit_transform(X_train_s)\n",
    "X_reduced_test = pca.fit_transform(X_test_s)\n",
    "\n",
    "from sklearn.linear_model import LogisticRegression\n",
    "\n",
    "log_reg = LogisticRegression(random_state=42)\n",
    "log_reg.fit(X_reduced_train, y_train_s)\n",
    "log_reg.score(X_reduced_test,y_test_s)"
   ]
  },
  {
   "cell_type": "code",
   "execution_count": 30,
   "metadata": {},
   "outputs": [
    {
     "data": {
      "text/plain": [
       "0.088"
      ]
     },
     "execution_count": 30,
     "metadata": {},
     "output_type": "execute_result"
    }
   ],
   "source": [
    "from sklearn.decomposition import KernelPCA\n",
    "\n",
    "lin_pca = KernelPCA(n_components = 100, kernel=\"linear\", fit_inverse_transform=True)\n",
    "X_reduced_train = lin_pca.fit_transform(X_train_s)\n",
    "X_reduced_test = lin_pca.fit_transform(X_test_s)\n",
    "\n",
    "log_reg.fit(X_reduced_train, y_train_s)\n",
    "log_reg.score(X_reduced_test,y_test_s)"
   ]
  },
  {
   "cell_type": "code",
   "execution_count": 32,
   "metadata": {},
   "outputs": [
    {
     "data": {
      "text/plain": [
       "0.132"
      ]
     },
     "execution_count": 32,
     "metadata": {},
     "output_type": "execute_result"
    }
   ],
   "source": [
    "sig_pca = KernelPCA(n_components = 100, kernel=\"sigmoid\", gamma=0.001, coef0=1, fit_inverse_transform=True)\n",
    "X_reduced_train = sig_pca.fit_transform(X_train_s)\n",
    "X_reduced_test = sig_pca.fit_transform(X_test_s)\n",
    "\n",
    "log_reg.fit(X_reduced_train, y_train_s)\n",
    "log_reg.score(X_reduced_test,y_test_s)"
   ]
  },
  {
   "cell_type": "code",
   "execution_count": 33,
   "metadata": {},
   "outputs": [
    {
     "data": {
      "text/plain": [
       "0.384"
      ]
     },
     "execution_count": 33,
     "metadata": {},
     "output_type": "execute_result"
    }
   ],
   "source": [
    "from sklearn.manifold import LocallyLinearEmbedding\n",
    "\n",
    "lle = LocallyLinearEmbedding(n_components=100, n_neighbors=10, random_state=42)\n",
    "X_reduced_train = lle.fit_transform(X_train_s)\n",
    "X_reduced_test = lle.fit_transform(X_test_s)\n",
    "\n",
    "log_reg.fit(X_reduced_train, y_train_s)\n",
    "log_reg.score(X_reduced_test,y_test_s)"
   ]
  },
  {
   "cell_type": "code",
   "execution_count": 34,
   "metadata": {},
   "outputs": [
    {
     "data": {
      "text/plain": [
       "0.252"
      ]
     },
     "execution_count": 34,
     "metadata": {},
     "output_type": "execute_result"
    }
   ],
   "source": [
    "from sklearn.manifold import Isomap\n",
    "\n",
    "isomap = Isomap(n_components=100)\n",
    "X_reduced_train = isomap.fit_transform(X_train_s)\n",
    "X_reduced_test = isomap.fit_transform(X_test_s)\n",
    "\n",
    "log_reg.fit(X_reduced_train, y_train_s)\n",
    "log_reg.score(X_reduced_test,y_test_s)"
   ]
  },
  {
   "cell_type": "code",
   "execution_count": 35,
   "metadata": {},
   "outputs": [
    {
     "data": {
      "text/plain": [
       "0.872"
      ]
     },
     "execution_count": 35,
     "metadata": {},
     "output_type": "execute_result"
    }
   ],
   "source": [
    "log_reg = LogisticRegression(random_state=42)\n",
    "log_reg.fit(X_train_s, y_train_s)\n",
    "log_reg.score(X_test_s,y_test_s)"
   ]
  }
 ],
 "metadata": {
  "kernelspec": {
   "display_name": "Python 3",
   "language": "python",
   "name": "python3"
  },
  "language_info": {
   "codemirror_mode": {
    "name": "ipython",
    "version": 3
   },
   "file_extension": ".py",
   "mimetype": "text/x-python",
   "name": "python",
   "nbconvert_exporter": "python",
   "pygments_lexer": "ipython3",
   "version": "3.6.5"
  }
 },
 "nbformat": 4,
 "nbformat_minor": 2
}
